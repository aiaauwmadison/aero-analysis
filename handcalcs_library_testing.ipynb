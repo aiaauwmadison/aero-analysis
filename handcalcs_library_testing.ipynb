{
 "cells": [
  {
   "cell_type": "code",
   "execution_count": 1,
   "id": "56351f9a-b2f9-446b-a2de-5812370a1b28",
   "metadata": {
    "tags": []
   },
   "outputs": [],
   "source": [
    "### RUN ME ON FIRST TIME USE ###\n",
    "# !pip install handcalcs\n",
    "# !pip install pint\n",
    "# !pip install ipykernel\n",
    "# !python -m ipykernel install --user --name=venv38\n",
    "# !pip install ipython\n",
    "# !pip install lxml"
   ]
  },
  {
   "cell_type": "code",
   "execution_count": 2,
   "id": "6d38b453-5dc9-4e6a-a05d-b8344d65bef6",
   "metadata": {
    "tags": []
   },
   "outputs": [],
   "source": [
    "# from math import sqrt, sin, pi\n",
    "# import handcalcs.render\n",
    "# import pint"
   ]
  },
  {
   "cell_type": "markdown",
   "id": "29b7daf8",
   "metadata": {},
   "source": [
    "TO-DO\n",
    "1. Test sympy symbolic mode with latex\n",
    "1. add variable_importer.py support for .ork files\n",
    "1. chnage h_g to h_0"
   ]
  },
  {
   "cell_type": "markdown",
   "id": "f276b02d",
   "metadata": {},
   "source": [
    "HandCalcs Usage Guide"
   ]
  },
  {
   "cell_type": "code",
   "execution_count": 3,
   "id": "50f385b4-6eb9-4364-b885-df0018f2d9e7",
   "metadata": {
    "tags": []
   },
   "outputs": [],
   "source": [
    "# %%render   # renders an equation visually\n",
    "# long\n",
    "# {modifier}\n",
    "\n",
    "# %%tex   # outputs an equation as LaTex code\n",
    "# {modifier}\n",
    "\n",
    "# modifiers: put at {modifier} \n",
    "# # Symbolic : only outputs equation, doesn't solve\n",
    "# # Parameter : only outputs answer, doesn't visualize equation\n",
    "# # Short : displays short equations in-line\n",
    "# # Long : displays long equation with wrap arounds\n",
    "\n",
    "#d = sqrt(a) + sin(b) + pi # this is d"
   ]
  },
  {
   "cell_type": "markdown",
   "id": "585b0b03",
   "metadata": {},
   "source": [
    "import variables from OpenRocket.ork and variables.txt"
   ]
  },
  {
   "cell_type": "code",
   "execution_count": 1,
   "id": "0c3722cd",
   "metadata": {},
   "outputs": [],
   "source": [
    "import variable_importer\n",
    "author, c_r, c_t, FT, b, G, h_g, h_relVmax, m, v_i, v_f, t_infl, V_max, Cd_m, D_m, rho_m, Cd_d, rho_d, D_d, D_a, L_Dbay, L_Mbay, P_e = variable_importer.run()"
   ]
  },
  {
   "cell_type": "markdown",
   "id": "9d7a890e",
   "metadata": {},
   "source": [
    "Apply units to variables. Only run once! If run more than once, then restart kernel and run all cells."
   ]
  },
  {
   "cell_type": "code",
   "execution_count": 2,
   "id": "ffeeb694",
   "metadata": {},
   "outputs": [],
   "source": [
    "# code setup, must be run under the var reset\n",
    "%reset -f\n",
    "from math import sqrt, sin, pi\n",
    "import handcalcs.render\n",
    "import pint\n",
    "import variable_importer\n",
    "author, c_r, c_t, FT, b, G, h_g, h_relVmax, m, v_i, v_f, t_infl, V_max, Cd_m, D_m, rho_m, Cd_d, rho_d, D_d, D_a, L_Dbay, L_Mbay, P_e = variable_importer.run()\n",
    "\n",
    "# variable setup\n",
    "u = pint.UnitRegistry()\n",
    "c_r = c_r * u.inch\n",
    "c_t = c_t * u.inch\n",
    "FT = FT * u.inch\n",
    "b = b * u.inch\n",
    "G = G * (u.pound / u.inch**2)\n",
    "P_0 = 14.69 * (u.pound / u.inch**2)\n",
    "h_g = h_g * u.feet\n",
    "h_relVmax = h_relVmax * u.feet\n",
    "\n",
    "\n"
   ]
  },
  {
   "cell_type": "markdown",
   "id": "342d11c0",
   "metadata": {},
   "source": [
    "Fin Geometry Calculations"
   ]
  },
  {
   "cell_type": "code",
   "execution_count": 3,
   "id": "bfea6deb",
   "metadata": {},
   "outputs": [
    {
     "data": {
      "text/latex": [
       "\\[\n",
       "\\begin{aligned}\n",
       "c_{r} &= 12.000\\ \\mathrm{inch} \\; \\;\\textrm{(root chord length)}\n",
       "\\\\[10pt]\n",
       "c_{t} &= 2.000\\ \\mathrm{inch} \\; \\;\\textrm{(tip chord length)}\n",
       "\\\\[10pt]\n",
       "\\mathrm{FT} &= 0.250\\ \\mathrm{inch} \\; \\;\\textrm{(fin thickness)}\n",
       "\\\\[10pt]\n",
       "b &= 6.000\\ \\mathrm{inch} \\; \\;\\textrm{(fin semi-span)}\n",
       "\\\\[10pt]\n",
       "G &= 1185185.160\\ \\frac{\\mathrm{pound}}{\\mathrm{inch}^{2}} \\; \\;\\textrm{(fin material shear modulus)}\n",
       "\\\\[10pt]\n",
       "S &= \\left( \\frac{ 1 }{ 2 } \\right) \\cdot \\left( c_{r} + c_{t} \\right) \\cdot b \\\\&= \\left( \\frac{ 1 }{ 2 } \\right) \\cdot \\left( 12.000\\ \\mathrm{inch} + 2.000\\ \\mathrm{inch} \\right) \\cdot 6.000\\ \\mathrm{inch} \\\\&= 42.000\\ \\mathrm{inch}^{2} \\; \\;\\textrm{(fin planform area)}\\\\[10pt]\n",
       "\\\\[10pt]\n",
       "\\mathrm{AR} &= \\frac{ \\left( b \\right) ^{ 2 } }{ S } \\\\&= \\frac{ \\left( 6.000\\ \\mathrm{inch} \\right) ^{ 2 } }{ 42.000\\ \\mathrm{inch}^{2} } \\\\&= 0.857\\ dimensionless \\; \\;\\textrm{(fin aspect ratio)}\\\\[10pt]\n",
       "\\\\[10pt]\n",
       "\\lambda &= \\frac{ c_{t} }{ c_{r} } \\\\&= \\frac{ 2.000\\ \\mathrm{inch} }{ 12.000\\ \\mathrm{inch} } \\\\&= 0.167\\ dimensionless \\; \\;\\textrm{(fin taper ratio)}\\\\[10pt]\n",
       "\\end{aligned}\n",
       "\\]"
      ],
      "text/plain": [
       "<IPython.core.display.Latex object>"
      ]
     },
     "metadata": {},
     "output_type": "display_data"
    }
   ],
   "source": [
    "%%render long\n",
    "c_r                             # root chord length\n",
    "c_t                             # tip chord length\n",
    "FT                              # fin thickness\n",
    "b                               # fin semi-span \n",
    "G                               # fin material shear modulus\n",
    "S = (1/2) * (c_r + c_t) * b     # fin planform area\n",
    "AR = b**2 / S                   # fin aspect ratio\n",
    "lamb = c_t / c_r                # fin taper ratio"
   ]
  },
  {
   "cell_type": "markdown",
   "id": "4c8b14f3",
   "metadata": {},
   "source": [
    "Atmospheric Conditions Calculations"
   ]
  },
  {
   "cell_type": "code",
   "execution_count": 4,
   "id": "51df1c41",
   "metadata": {},
   "outputs": [
    {
     "ename": "OffsetUnitCalculusError",
     "evalue": "Ambiguous operation with offset unit (degree_Fahrenheit). See https://pint.readthedocs.io/en/latest/nonmult.html for guidance.",
     "output_type": "error",
     "traceback": [
      "\u001b[1;31m---------------------------------------------------------------------------\u001b[0m",
      "\u001b[1;31mOffsetUnitCalculusError\u001b[0m                   Traceback (most recent call last)",
      "Cell \u001b[1;32mIn[4], line 5\u001b[0m\n\u001b[0;32m      3\u001b[0m h_relVmax                       \u001b[38;5;66;03m# altitude above ground level at which Vmax is reached                   \u001b[39;00m\n\u001b[0;32m      4\u001b[0m h_Vmax \u001b[38;5;241m=\u001b[39m h_g \u001b[38;5;241m+\u001b[39m h_relVmax        \u001b[38;5;66;03m# altitude above sea level at which Vmax is reached\u001b[39;00m\n\u001b[1;32m----> 5\u001b[0m T \u001b[38;5;241m=\u001b[39m \u001b[38;5;241;43m59\u001b[39;49m\u001b[38;5;241;43m*\u001b[39;49m\u001b[43mu\u001b[49m\u001b[38;5;241;43m.\u001b[39;49m\u001b[43mdegF\u001b[49m \u001b[38;5;241m-\u001b[39m (\u001b[38;5;241m0.00356\u001b[39m \u001b[38;5;241m*\u001b[39m (u\u001b[38;5;241m.\u001b[39mdegF\u001b[38;5;241m/\u001b[39mu\u001b[38;5;241m.\u001b[39mfoot)) \u001b[38;5;241m*\u001b[39m h_Vmax\n",
      "File \u001b[1;32mc:\\Users\\gabeb\\AppData\\Local\\Programs\\Python\\Python311\\Lib\\site-packages\\pint\\facets\\plain\\unit.py:147\u001b[0m, in \u001b[0;36mPlainUnit.__mul__\u001b[1;34m(self, other)\u001b[0m\n\u001b[0;32m    144\u001b[0m \u001b[38;5;28;01mif\u001b[39;00m \u001b[38;5;28misinstance\u001b[39m(other, Number) \u001b[38;5;129;01mand\u001b[39;00m other \u001b[38;5;241m==\u001b[39m \u001b[38;5;241m1\u001b[39m:\n\u001b[0;32m    145\u001b[0m     \u001b[38;5;28;01mreturn\u001b[39;00m \u001b[38;5;28mself\u001b[39m\u001b[38;5;241m.\u001b[39m_REGISTRY\u001b[38;5;241m.\u001b[39mQuantity(other, \u001b[38;5;28mself\u001b[39m\u001b[38;5;241m.\u001b[39m_units)\n\u001b[1;32m--> 147\u001b[0m \u001b[38;5;28;01mreturn\u001b[39;00m \u001b[38;5;28;43mself\u001b[39;49m\u001b[38;5;241;43m.\u001b[39;49m\u001b[43m_REGISTRY\u001b[49m\u001b[38;5;241;43m.\u001b[39;49m\u001b[43mQuantity\u001b[49m\u001b[43m(\u001b[49m\u001b[38;5;241;43m1\u001b[39;49m\u001b[43m,\u001b[49m\u001b[43m \u001b[49m\u001b[38;5;28;43mself\u001b[39;49m\u001b[38;5;241;43m.\u001b[39;49m\u001b[43m_units\u001b[49m\u001b[43m)\u001b[49m\u001b[43m \u001b[49m\u001b[38;5;241;43m*\u001b[39;49m\u001b[43m \u001b[49m\u001b[43mother\u001b[49m\n",
      "File \u001b[1;32mc:\\Users\\gabeb\\AppData\\Local\\Programs\\Python\\Python311\\Lib\\site-packages\\pint\\facets\\plain\\quantity.py:1131\u001b[0m, in \u001b[0;36mPlainQuantity.__mul__\u001b[1;34m(self, other)\u001b[0m\n\u001b[0;32m   1130\u001b[0m \u001b[38;5;28;01mdef\u001b[39;00m \u001b[38;5;21m__mul__\u001b[39m(\u001b[38;5;28mself\u001b[39m, other):\n\u001b[1;32m-> 1131\u001b[0m     \u001b[38;5;28;01mreturn\u001b[39;00m \u001b[38;5;28;43mself\u001b[39;49m\u001b[38;5;241;43m.\u001b[39;49m\u001b[43m_mul_div\u001b[49m\u001b[43m(\u001b[49m\u001b[43mother\u001b[49m\u001b[43m,\u001b[49m\u001b[43m \u001b[49m\u001b[43moperator\u001b[49m\u001b[38;5;241;43m.\u001b[39;49m\u001b[43mmul\u001b[49m\u001b[43m)\u001b[49m\n",
      "File \u001b[1;32mc:\\Users\\gabeb\\AppData\\Local\\Programs\\Python\\Python311\\Lib\\site-packages\\pint\\facets\\plain\\quantity.py:102\u001b[0m, in \u001b[0;36mcheck_implemented.<locals>.wrapped\u001b[1;34m(self, *args, **kwargs)\u001b[0m\n\u001b[0;32m    100\u001b[0m \u001b[38;5;28;01melif\u001b[39;00m \u001b[38;5;28misinstance\u001b[39m(other, \u001b[38;5;28mlist\u001b[39m) \u001b[38;5;129;01mand\u001b[39;00m other \u001b[38;5;129;01mand\u001b[39;00m \u001b[38;5;28misinstance\u001b[39m(other[\u001b[38;5;241m0\u001b[39m], \u001b[38;5;28mtype\u001b[39m(\u001b[38;5;28mself\u001b[39m)):\n\u001b[0;32m    101\u001b[0m     \u001b[38;5;28;01mreturn\u001b[39;00m \u001b[38;5;28mNotImplemented\u001b[39m\n\u001b[1;32m--> 102\u001b[0m \u001b[38;5;28;01mreturn\u001b[39;00m \u001b[43mf\u001b[49m\u001b[43m(\u001b[49m\u001b[38;5;28;43mself\u001b[39;49m\u001b[43m,\u001b[49m\u001b[43m \u001b[49m\u001b[38;5;241;43m*\u001b[39;49m\u001b[43margs\u001b[49m\u001b[43m,\u001b[49m\u001b[43m \u001b[49m\u001b[38;5;241;43m*\u001b[39;49m\u001b[38;5;241;43m*\u001b[39;49m\u001b[43mkwargs\u001b[49m\u001b[43m)\u001b[49m\n",
      "File \u001b[1;32mc:\\Users\\gabeb\\AppData\\Local\\Programs\\Python\\Python311\\Lib\\site-packages\\pint\\facets\\plain\\quantity.py:82\u001b[0m, in \u001b[0;36mireduce_dimensions.<locals>.wrapped\u001b[1;34m(self, *args, **kwargs)\u001b[0m\n\u001b[0;32m     81\u001b[0m \u001b[38;5;28;01mdef\u001b[39;00m \u001b[38;5;21mwrapped\u001b[39m(\u001b[38;5;28mself\u001b[39m, \u001b[38;5;241m*\u001b[39margs, \u001b[38;5;241m*\u001b[39m\u001b[38;5;241m*\u001b[39mkwargs):\n\u001b[1;32m---> 82\u001b[0m     result \u001b[38;5;241m=\u001b[39m \u001b[43mf\u001b[49m\u001b[43m(\u001b[49m\u001b[38;5;28;43mself\u001b[39;49m\u001b[43m,\u001b[49m\u001b[43m \u001b[49m\u001b[38;5;241;43m*\u001b[39;49m\u001b[43margs\u001b[49m\u001b[43m,\u001b[49m\u001b[43m \u001b[49m\u001b[38;5;241;43m*\u001b[39;49m\u001b[38;5;241;43m*\u001b[39;49m\u001b[43mkwargs\u001b[49m\u001b[43m)\u001b[49m\n\u001b[0;32m     83\u001b[0m     \u001b[38;5;28;01mtry\u001b[39;00m:\n\u001b[0;32m     84\u001b[0m         \u001b[38;5;28;01mif\u001b[39;00m result\u001b[38;5;241m.\u001b[39m_REGISTRY\u001b[38;5;241m.\u001b[39mauto_reduce_dimensions:\n",
      "File \u001b[1;32mc:\\Users\\gabeb\\AppData\\Local\\Programs\\Python\\Python311\\Lib\\site-packages\\pint\\facets\\plain\\quantity.py:1079\u001b[0m, in \u001b[0;36mPlainQuantity._mul_div\u001b[1;34m(self, other, magnitude_op, units_op)\u001b[0m\n\u001b[0;32m   1076\u001b[0m \u001b[38;5;28;01mif\u001b[39;00m \u001b[38;5;129;01mnot\u001b[39;00m \u001b[38;5;28mself\u001b[39m\u001b[38;5;241m.\u001b[39m_check(other):\n\u001b[0;32m   1078\u001b[0m     \u001b[38;5;28;01mif\u001b[39;00m \u001b[38;5;129;01mnot\u001b[39;00m \u001b[38;5;28mself\u001b[39m\u001b[38;5;241m.\u001b[39m_ok_for_muldiv(no_offset_units_self):\n\u001b[1;32m-> 1079\u001b[0m         \u001b[38;5;28;01mraise\u001b[39;00m OffsetUnitCalculusError(\u001b[38;5;28mself\u001b[39m\u001b[38;5;241m.\u001b[39m_units, \u001b[38;5;28mgetattr\u001b[39m(other, \u001b[38;5;124m\"\u001b[39m\u001b[38;5;124munits\u001b[39m\u001b[38;5;124m\"\u001b[39m, \u001b[38;5;124m\"\u001b[39m\u001b[38;5;124m\"\u001b[39m))\n\u001b[0;32m   1080\u001b[0m     \u001b[38;5;28;01mif\u001b[39;00m \u001b[38;5;28mlen\u001b[39m(offset_units_self) \u001b[38;5;241m==\u001b[39m \u001b[38;5;241m1\u001b[39m:\n\u001b[0;32m   1081\u001b[0m         \u001b[38;5;28;01mif\u001b[39;00m \u001b[38;5;28mself\u001b[39m\u001b[38;5;241m.\u001b[39m_units[offset_units_self[\u001b[38;5;241m0\u001b[39m]] \u001b[38;5;241m!=\u001b[39m \u001b[38;5;241m1\u001b[39m \u001b[38;5;129;01mor\u001b[39;00m magnitude_op \u001b[38;5;129;01mnot\u001b[39;00m \u001b[38;5;129;01min\u001b[39;00m [\n\u001b[0;32m   1082\u001b[0m             operator\u001b[38;5;241m.\u001b[39mmul,\n\u001b[0;32m   1083\u001b[0m             operator\u001b[38;5;241m.\u001b[39mimul,\n\u001b[0;32m   1084\u001b[0m         ]:\n",
      "\u001b[1;31mOffsetUnitCalculusError\u001b[0m: Ambiguous operation with offset unit (degree_Fahrenheit). See https://pint.readthedocs.io/en/latest/nonmult.html for guidance."
     ]
    }
   ],
   "source": [
    "%%render long\n",
    "P_0                             # ambient pressure at sea level\n",
    "h_g                             # altitude of launch site\n",
    "h_relVmax                       # altitude above ground level at which Vmax is reached                   \n",
    "h_Vmax = h_g + h_relVmax        # altitude above sea level at which Vmax is reached\n",
    "T = 59*u.degF - (0.00356 * (u.degF/u.foot)) * h_Vmax\n"
   ]
  },
  {
   "cell_type": "markdown",
   "id": "6f9f1fb3",
   "metadata": {},
   "source": [
    "Old ork_importer code\n",
    "* rocket data is now imported by variable_importer from a .ork and from manual input into a variables.txt"
   ]
  },
  {
   "cell_type": "code",
   "execution_count": null,
   "id": "9cc9f06c",
   "metadata": {},
   "outputs": [],
   "source": [
    "# # --- import vars from ork ---\n",
    "\n",
    "# import ork_importer\n",
    "# ork_dict = ork_importer.get_ork_dict('rocket_zip.ork')\n",
    "# fins_dict = ork_importer.get_fins_dict(ork_dict)\n",
    "# main_chute_dict = ork_importer.get_main_chute_dict(ork_dict)\n",
    "# # drogue_chute_dict = ork_importer.get_drogue_chute_dict(ork_dict)\n",
    "\n",
    "# # --- fin parameters ---\n",
    "# c_r = float(fins_dict['rootchord'])/0.0254\n",
    "# c_t = float(fins_dict['tipchord'])/0.0254\n",
    "# t = float(fins_dict['thickness'])/0.0254\n",
    "# b = float(fins_dict['height'])/0.0254\n",
    "\n",
    "# # --- vars not in open rocket file\n",
    "# G = float(input(\"What is the shear modulus(G) of your rocket's fins in PSI?\")) #Entering 380000 for testing purposes\n",
    "# h = float(input(\"What is the altitude of peak velocity in feet?\")) #Entering 1750 for testing purposes\n",
    "\n",
    "# S = (1/2)*(c_r + c_t)*b\n",
    "# AR = b**2/S\n",
    "# TR = c_t/c_r\n",
    "# T = 59 - 0.00356*h\n",
    "# P_0 = 14.69\n",
    "# P = P_0*((T+459.7)/518.6)** 5.256\n",
    "# a = sqrt(1.4*1716.59*(T+460))\n",
    "# v = sqrt(G/(((39.3*(AR**3))/(((t/c_r) ** 3)*(AR+2))) * ((TR+1)/2) * (P/P_0))) * a"
   ]
  },
  {
   "cell_type": "markdown",
   "id": "ea5b4621",
   "metadata": {},
   "source": [
    "Old Flutter Calculations"
   ]
  },
  {
   "cell_type": "code",
   "execution_count": 5,
   "id": "1b0b33f3",
   "metadata": {
    "tags": []
   },
   "outputs": [
    {
     "ename": "DimensionalityError",
     "evalue": "Cannot convert from 'foot' to 'dimensionless'",
     "output_type": "error",
     "traceback": [
      "\u001b[1;31m---------------------------------------------------------------------------\u001b[0m",
      "\u001b[1;31mDimensionalityError\u001b[0m                       Traceback (most recent call last)",
      "Cell \u001b[1;32mIn[5], line 6\u001b[0m\n\u001b[0;32m      4\u001b[0m taper \u001b[38;5;241m=\u001b[39m c_t\u001b[38;5;241m/\u001b[39mc_r\n\u001b[0;32m      5\u001b[0m h_Vmax \u001b[38;5;241m=\u001b[39m h_g \u001b[38;5;241m+\u001b[39m h_relVmax\n\u001b[1;32m----> 6\u001b[0m T \u001b[38;5;241m=\u001b[39m \u001b[38;5;241;43m59\u001b[39;49m\u001b[43m \u001b[49m\u001b[38;5;241;43m-\u001b[39;49m\u001b[43m \u001b[49m\u001b[38;5;241;43m0.00356\u001b[39;49m\u001b[38;5;241;43m*\u001b[39;49m\u001b[43mh_Vmax\u001b[49m\n\u001b[0;32m      7\u001b[0m P_0 \u001b[38;5;241m=\u001b[39m \u001b[38;5;241m14.69\u001b[39m\n\u001b[0;32m      8\u001b[0m P \u001b[38;5;241m=\u001b[39m P_0\u001b[38;5;241m*\u001b[39m((T\u001b[38;5;241m+\u001b[39m\u001b[38;5;241m459.7\u001b[39m)\u001b[38;5;241m/\u001b[39m\u001b[38;5;241m518.6\u001b[39m)\u001b[38;5;241m*\u001b[39m\u001b[38;5;241m*\u001b[39m \u001b[38;5;241m5.256\u001b[39m\n",
      "File \u001b[1;32mc:\\Users\\gabeb\\AppData\\Local\\Programs\\Python\\Python311\\Lib\\site-packages\\pint\\facets\\plain\\quantity.py:977\u001b[0m, in \u001b[0;36mPlainQuantity.__rsub__\u001b[1;34m(self, other)\u001b[0m\n\u001b[0;32m    975\u001b[0m     \u001b[38;5;28;01mreturn\u001b[39;00m other \u001b[38;5;241m-\u001b[39m \u001b[38;5;28mself\u001b[39m\u001b[38;5;241m.\u001b[39mto_timedelta()\n\u001b[0;32m    976\u001b[0m \u001b[38;5;28;01melse\u001b[39;00m:\n\u001b[1;32m--> 977\u001b[0m     \u001b[38;5;28;01mreturn\u001b[39;00m \u001b[38;5;241m-\u001b[39m\u001b[38;5;28;43mself\u001b[39;49m\u001b[38;5;241;43m.\u001b[39;49m\u001b[43m_add_sub\u001b[49m\u001b[43m(\u001b[49m\u001b[43mother\u001b[49m\u001b[43m,\u001b[49m\u001b[43m \u001b[49m\u001b[43moperator\u001b[49m\u001b[38;5;241;43m.\u001b[39;49m\u001b[43msub\u001b[49m\u001b[43m)\u001b[49m\n",
      "File \u001b[1;32mc:\\Users\\gabeb\\AppData\\Local\\Programs\\Python\\Python311\\Lib\\site-packages\\pint\\facets\\plain\\quantity.py:102\u001b[0m, in \u001b[0;36mcheck_implemented.<locals>.wrapped\u001b[1;34m(self, *args, **kwargs)\u001b[0m\n\u001b[0;32m    100\u001b[0m \u001b[38;5;28;01melif\u001b[39;00m \u001b[38;5;28misinstance\u001b[39m(other, \u001b[38;5;28mlist\u001b[39m) \u001b[38;5;129;01mand\u001b[39;00m other \u001b[38;5;129;01mand\u001b[39;00m \u001b[38;5;28misinstance\u001b[39m(other[\u001b[38;5;241m0\u001b[39m], \u001b[38;5;28mtype\u001b[39m(\u001b[38;5;28mself\u001b[39m)):\n\u001b[0;32m    101\u001b[0m     \u001b[38;5;28;01mreturn\u001b[39;00m \u001b[38;5;28mNotImplemented\u001b[39m\n\u001b[1;32m--> 102\u001b[0m \u001b[38;5;28;01mreturn\u001b[39;00m \u001b[43mf\u001b[49m\u001b[43m(\u001b[49m\u001b[38;5;28;43mself\u001b[39;49m\u001b[43m,\u001b[49m\u001b[43m \u001b[49m\u001b[38;5;241;43m*\u001b[39;49m\u001b[43margs\u001b[49m\u001b[43m,\u001b[49m\u001b[43m \u001b[49m\u001b[38;5;241;43m*\u001b[39;49m\u001b[38;5;241;43m*\u001b[39;49m\u001b[43mkwargs\u001b[49m\u001b[43m)\u001b[49m\n",
      "File \u001b[1;32mc:\\Users\\gabeb\\AppData\\Local\\Programs\\Python\\Python311\\Lib\\site-packages\\pint\\facets\\plain\\quantity.py:858\u001b[0m, in \u001b[0;36mPlainQuantity._add_sub\u001b[1;34m(self, other, op)\u001b[0m\n\u001b[0;32m    853\u001b[0m         magnitude \u001b[38;5;241m=\u001b[39m op(\n\u001b[0;32m    854\u001b[0m             \u001b[38;5;28mself\u001b[39m\u001b[38;5;241m.\u001b[39mto(units)\u001b[38;5;241m.\u001b[39m_magnitude,\n\u001b[0;32m    855\u001b[0m             _to_magnitude(other, \u001b[38;5;28mself\u001b[39m\u001b[38;5;241m.\u001b[39mforce_ndarray, \u001b[38;5;28mself\u001b[39m\u001b[38;5;241m.\u001b[39mforce_ndarray_like),\n\u001b[0;32m    856\u001b[0m         )\n\u001b[0;32m    857\u001b[0m     \u001b[38;5;28;01melse\u001b[39;00m:\n\u001b[1;32m--> 858\u001b[0m         \u001b[38;5;28;01mraise\u001b[39;00m DimensionalityError(\u001b[38;5;28mself\u001b[39m\u001b[38;5;241m.\u001b[39m_units, \u001b[38;5;124m\"\u001b[39m\u001b[38;5;124mdimensionless\u001b[39m\u001b[38;5;124m\"\u001b[39m)\n\u001b[0;32m    859\u001b[0m     \u001b[38;5;28;01mreturn\u001b[39;00m \u001b[38;5;28mself\u001b[39m\u001b[38;5;241m.\u001b[39m\u001b[38;5;18m__class__\u001b[39m(magnitude, units)\n\u001b[0;32m    861\u001b[0m \u001b[38;5;28;01mif\u001b[39;00m \u001b[38;5;129;01mnot\u001b[39;00m \u001b[38;5;28mself\u001b[39m\u001b[38;5;241m.\u001b[39mdimensionality \u001b[38;5;241m==\u001b[39m other\u001b[38;5;241m.\u001b[39mdimensionality:\n",
      "\u001b[1;31mDimensionalityError\u001b[0m: Cannot convert from 'foot' to 'dimensionless'"
     ]
    }
   ],
   "source": [
    "# Fin Flutter Calculations\n",
    "S = (1/2)*(c_r + c_t)*b\n",
    "AR = b**2/S                    \n",
    "taper = c_t/c_r\n",
    "h_Vmax = h_g + h_relVmax\n",
    "T = 59 - 0.00356*h_Vmax\n",
    "P_0 = 14.69\n",
    "P = P_0*((T+459.7)/518.6)** 5.256\n",
    "a = sqrt(1.4*1716.59*(T+460))\n",
    "V_fl = sqrt(G/(((39.3*(AR**3))/(((FT/c_r) ** 3)*(AR+2))) * ((taper+1)/2) * (P/P_0))) * a\n",
    "SM = V_fl / V_max\n",
    "grav = 32.17\n",
    "chute_F_max = ((2*m*v_i)/(grav * T))*(1 + (v_i/v_f)) + 2*m\n",
    "V_d = sqrt((8*m*grav)/(pi*rho_d*Cd_d*D_d**2))\n",
    "V_m = sqrt((8*m*grav)/(pi*rho_m*Cd_m*D_m**2))\n",
    "Vol_d = (pi*D_a**2*L_Dbay)/4\n",
    "Vol_m = (pi*D_a**2*L_Mbay)/4\n",
    "# Update below with actual vars\n",
    "m_bp_d = (454*P_e*Vol_d)/(265.92*3307)\n",
    "m_bp_m = (454*P_e*Vol_m)/(265.92*3307)\n",
    "A_bh = (pi * D_a**2)/4\n",
    "F_e = P_e * A_bh\n",
    "P_e_d = (2.5*265.92*3307)/(Vol_d * 454) \n",
    "P_e_m = (5*265.92*3307)/(Vol_m * 454) \n",
    "F_e_d = P_e_d * A_bh\n",
    "F_e_m = P_e_m * A_bh\n"
   ]
  },
  {
   "cell_type": "markdown",
   "id": "19b533ab",
   "metadata": {},
   "source": [
    "Old Flutter Latex"
   ]
  },
  {
   "cell_type": "code",
   "execution_count": 6,
   "id": "ebb68342-e63b-473b-9bda-9eddcf50d349",
   "metadata": {
    "tags": []
   },
   "outputs": [
    {
     "ename": "NameError",
     "evalue": "name 'h' is not defined",
     "output_type": "error",
     "traceback": [
      "\u001b[1;31m---------------------------------------------------------------------------\u001b[0m",
      "\u001b[1;31mNameError\u001b[0m                                 Traceback (most recent call last)",
      "Cell \u001b[1;32mIn[6], line 4\u001b[0m\n\u001b[0;32m      1\u001b[0m \u001b[38;5;66;03m# long\u001b[39;00m\n\u001b[0;32m      2\u001b[0m \u001b[38;5;66;03m# --- flutter calculaton rendering ---\u001b[39;00m\n\u001b[0;32m      3\u001b[0m G\n\u001b[1;32m----> 4\u001b[0m \u001b[43mh\u001b[49m\n\u001b[0;32m      5\u001b[0m t \u001b[38;5;241m=\u001b[39m \u001b[38;5;241m0.375\u001b[39m\n\u001b[0;32m      6\u001b[0m c_r\n",
      "\u001b[1;31mNameError\u001b[0m: name 'h' is not defined"
     ]
    }
   ],
   "source": [
    "\n",
    "%%render\n",
    "# long\n",
    "# --- flutter calculaton rendering ---\n",
    "G\n",
    "h\n",
    "t = 0.375\n",
    "c_r\n",
    "c_t\n",
    "b\n",
    "S = (1/2)*(c_r + c_t)*b\n",
    "AR = b**2/S\n",
    "TR = c_t/c_r\n",
    "T = 59 - 0.00356*h\n",
    "P_0 = 14.69\n",
    "P = P_0*((T+459.7)/518.6)** 5.256\n",
    "a = sqrt(1.4*1716.59*(T+460))\n",
    "\n",
    "# AeroRocket\n",
    "v_fl_finsim = sqrt(G/(((39.3*(AR**3))/(((t/c_r) ** 3)*(AR+2))) * ((TR+1)/2) * (P/P_0))) * a\n",
    "v_fl_sympy = 0.159515806805674*a*sqrt(G*P_0*t**3*(AR + 2)/(AR**3*P*c_r**3*(TR/2 + 1/2)))\n",
    "v_fl_291 = a * sqrt(G/(1.337*AR**3*P*(TR+1))/((AR+2)*(t/c_r)**3))\n",
    "v_fl_291_sympy = 0.864837069233344*a*sqrt(G*c_r**3/(AR**3*P*t**3*(AR + 2)*(TR + 1)))\n"
   ]
  }
 ],
 "metadata": {
  "kernelspec": {
   "display_name": "Python 3 (ipykernel)",
   "language": "python",
   "name": "python3"
  },
  "language_info": {
   "codemirror_mode": {
    "name": "ipython",
    "version": 3
   },
   "file_extension": ".py",
   "mimetype": "text/x-python",
   "name": "python",
   "nbconvert_exporter": "python",
   "pygments_lexer": "ipython3",
   "version": "3.11.1"
  },
  "vscode": {
   "interpreter": {
    "hash": "e30796e51ef1d0cb3e0e4afcf1176d6e7466c6e35fa7b95887e252383b23b6e7"
   }
  }
 },
 "nbformat": 4,
 "nbformat_minor": 5
}
